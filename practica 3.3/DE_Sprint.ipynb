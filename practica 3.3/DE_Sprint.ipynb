{
 "cells": [
  {
   "cell_type": "code",
   "execution_count": 66,
   "id": "8338e13c-707c-4cef-8f71-9104d970e41d",
   "metadata": {},
   "outputs": [],
   "source": [
    "import pyspark.sql.types as T\n",
    "import pyspark.sql.functions as F\n",
    "from pyspark.sql.window import Window"
   ]
  },
  {
   "cell_type": "code",
   "execution_count": 43,
   "id": "a2004496-eb53-4157-9185-be673eec54dd",
   "metadata": {},
   "outputs": [],
   "source": [
    "customSchema_logs = T.StructType([\n",
    "                T.StructField(\"id\", T.StringType(), True),\n",
    "                T.StructField(\"timestamp\", T.LongType(), True),\n",
    "                T.StructField(\"type\", T.StringType(), True),\n",
    "                T.StructField(\"page_id\", T.IntegerType(), True),\n",
    "                T.StructField(\"tag\", T.StringType(), True),\n",
    "                T.StructField(\"sign\", T.BooleanType(), True)])"
   ]
  },
  {
   "cell_type": "code",
   "execution_count": 49,
   "id": "a88f18ae-0b7c-4224-bc21-3f348e687327",
   "metadata": {},
   "outputs": [],
   "source": [
    "data_logs =[(1, 1637840253, \"visit\", 1, 'Sport', False),\n",
    "           (1, 1623427256, \"move\", 1, 'Sport', False),\n",
    "           (1, 1629471642, \"click\", 1, 'Sport', False),\n",
    "           (1, 1616562267, \"visit\", 2, 'Medicin', False),\n",
    "           (1, 1638941987, \"click\", 2, 'Politics', False),\n",
    "           (1, 1619160500, \"move\", 3, 'Sport', False),\n",
    "           (2, 1634943260, \"visit\", 4, 'Politics', True),\n",
    "           (2, 1626103180, \"scroll\", 4, 'Medicin', True),\n",
    "           (2, 1618119021, \"click\", 4, 'Politics', True),\n",
    "           (2, 1626071935, \"visit\", 5, 'Business', True),\n",
    "           (2, 1620385526, \"click\", 5, 'Medicin', True),\n",
    "           (2, 1636887856, \"visit\", 6, 'Medicin', True),\n",
    "           (2, 1612165677, \"move\", 6, 'Business', True),\n",
    "           (3, 1626960036, \"visit\", 1, 'Sport', False),\n",
    "           (3, 1638007179, \"scroll\", 1, 'Sport', False),\n",
    "           (3, 1617209174, \"visit\", 1, 'Sport', False),\n",
    "           (3, 1629474919, \"scroll\", 1, 'Sport', False),\n",
    "           (3, 1626960036, \"visit\", 1, 'Sport', False),\n",
    "           (3, 1629863841, \"scroll\", 1, 'Sport', False),\n",
    "           (4, 1611609527, \"visit\", 6, 'Business', False),\n",
    "           (5, 1631865594, \"move\", 1, 'Sport', True),\n",
    "           (5, 1636070942, \"move\", 1, 'Sport', True),\n",
    "           (5, 1640307636, \"visit\", 2, 'Medicin', True),\n",
    "           (5, 1618866891, \"click\", 2, 'Politics', True)]\n",
    "\n",
    "df_logs = spark.createDataFrame(data = data_logs, schema = customSchema_logs)"
   ]
  },
  {
   "cell_type": "code",
   "execution_count": 50,
   "id": "ebc69ffb-5514-4bc3-a76d-2ec4939c8316",
   "metadata": {},
   "outputs": [
    {
     "name": "stderr",
     "output_type": "stream",
     "text": [
      "                                                                                \r"
     ]
    },
    {
     "name": "stdout",
     "output_type": "stream",
     "text": [
      "+---+----------+-----+-------+--------+-----+\n",
      "|id |timestamp |type |page_id|tag     |sign |\n",
      "+---+----------+-----+-------+--------+-----+\n",
      "|1  |1637840253|visit|1      |Sport   |false|\n",
      "|1  |1623427256|move |1      |Sport   |false|\n",
      "|1  |1629471642|click|1      |Sport   |false|\n",
      "|1  |1616562267|visit|2      |Medicin |false|\n",
      "|1  |1638941987|click|2      |Politics|false|\n",
      "+---+----------+-----+-------+--------+-----+\n",
      "only showing top 5 rows\n",
      "\n"
     ]
    }
   ],
   "source": [
    "df_logs.show(5,False)"
   ]
  },
  {
   "cell_type": "markdown",
   "id": "5887e205-0677-44ac-9d0e-5bba4e79128f",
   "metadata": {},
   "source": [
    "### Вывести топ-5 самых активных посетителей сайта"
   ]
  },
  {
   "cell_type": "code",
   "execution_count": 51,
   "id": "623a6ed5-06fa-4fec-a8cb-45ca4dd6facf",
   "metadata": {},
   "outputs": [
    {
     "name": "stderr",
     "output_type": "stream",
     "text": [
      "[Stage 47:>                                                         (0 + 1) / 1]\r"
     ]
    },
    {
     "name": "stdout",
     "output_type": "stream",
     "text": [
      "+---+---------+\n",
      "| id|event_cnt|\n",
      "+---+---------+\n",
      "|  2|        7|\n",
      "|  3|        6|\n",
      "|  1|        6|\n",
      "|  5|        4|\n",
      "|  4|        1|\n",
      "+---+---------+\n",
      "\n"
     ]
    },
    {
     "name": "stderr",
     "output_type": "stream",
     "text": [
      "                                                                                \r"
     ]
    }
   ],
   "source": [
    "df_logs.groupby(\"id\").agg(F.count(\"*\").alias(\"event_cnt\"))\\\n",
    "      .orderBy(\"event_cnt\", ascending = False)\\\n",
    "      .show()"
   ]
  },
  {
   "cell_type": "markdown",
   "id": "c305e052-67b0-44a3-90a4-77b27e1d457f",
   "metadata": {},
   "source": [
    "### Посчитать процент посетителей, у которых есть ЛК"
   ]
  },
  {
   "cell_type": "code",
   "execution_count": 63,
   "id": "f9426a95-eddc-4ed5-a632-476a7e3b7315",
   "metadata": {},
   "outputs": [
    {
     "name": "stderr",
     "output_type": "stream",
     "text": [
      "[Stage 117:============================================>          (24 + 6) / 30]\r"
     ]
    },
    {
     "name": "stdout",
     "output_type": "stream",
     "text": [
      "ALL COUNT: 24\n",
      "RECORD TRUE: 11\n",
      "RECORD TRUE PERCENT: 45.833333333333336%\n"
     ]
    },
    {
     "name": "stderr",
     "output_type": "stream",
     "text": [
      "                                                                                \r"
     ]
    }
   ],
   "source": [
    "total_count = df_logs.count()\n",
    "df_web_sign = df_logs.filter((F.col('sign')=='True')).count()\n",
    "df_true_percent = df_web_sign*100/total_count\n",
    "\n",
    "print(\"ALL COUNT: \" + str(total_count))\n",
    "print(\"RECORD TRUE: \" + str(df_web_sign))\n",
    "print(\"RECORD TRUE PERCENT: \" + str(df_true_percent) + \"%\")"
   ]
  },
  {
   "cell_type": "markdown",
   "id": "089c1f0d-7402-4e27-bd4a-83813016e8d5",
   "metadata": {},
   "source": [
    "### Вывести топ-5 страниц сайта по показателю общего кол-ва кликов на данной странице"
   ]
  },
  {
   "cell_type": "code",
   "execution_count": 68,
   "id": "102553a5-445a-434b-a080-15bdd446b3b8",
   "metadata": {},
   "outputs": [
    {
     "name": "stderr",
     "output_type": "stream",
     "text": [
      "[Stage 125:>                                                        (0 + 1) / 1]\r"
     ]
    },
    {
     "name": "stdout",
     "output_type": "stream",
     "text": [
      "+-------+---------+\n",
      "|page_id|event_cnt|\n",
      "+-------+---------+\n",
      "|      2|        2|\n",
      "|      4|        1|\n",
      "|      5|        1|\n",
      "|      1|        1|\n",
      "+-------+---------+\n",
      "\n"
     ]
    },
    {
     "name": "stderr",
     "output_type": "stream",
     "text": [
      "                                                                                \r"
     ]
    }
   ],
   "source": [
    "windowSpec  = Window.partitionBy(\"page_id\")\n",
    "\n",
    "df_click = df_logs.filter((F.col('type')=='click')).groupby(\"page_id\").agg(F.count(\"*\").alias(\"event_cnt\"))\\\n",
    "      .orderBy(\"event_cnt\", ascending = False)\\\n",
    "      .show()\n"
   ]
  },
  {
   "cell_type": "markdown",
   "id": "d9701e2a-6976-436e-be81-ee7d1ed23801",
   "metadata": {},
   "source": [
    "### Добавьте столбец к фрейму данных со значением временного диапазона в рамках суток с размером окна – 4 часа(0-4, 4-8, 8-12 и т.д.)"
   ]
  },
  {
   "cell_type": "code",
   "execution_count": 69,
   "id": "700ca1c3-7d42-4777-afcd-2c0263478adb",
   "metadata": {},
   "outputs": [],
   "source": [
    "df_logs = df_logs.select(*[i for i in df_logs.columns if i != \"timestamp\"],\n",
    "                    F.from_unixtime(\"timestamp\").alias(\"event_time\"))"
   ]
  },
  {
   "cell_type": "code",
   "execution_count": 74,
   "id": "17e7a8d9-922b-4edc-9e4c-d3f5e4b31ab1",
   "metadata": {},
   "outputs": [
    {
     "name": "stderr",
     "output_type": "stream",
     "text": [
      "                                                                                \r"
     ]
    },
    {
     "name": "stdout",
     "output_type": "stream",
     "text": [
      "+---+------+-------+--------+-----+-------------------+------+\n",
      "| id|  type|page_id|     tag| sign|         event_time|period|\n",
      "+---+------+-------+--------+-----+-------------------+------+\n",
      "|  1| visit|      1|   Sport|false|2021-11-25 14:37:33|     3|\n",
      "|  1|  move|      1|   Sport|false|2021-06-11 19:00:56|     4|\n",
      "|  1| click|      1|   Sport|false|2021-08-20 18:00:42|     4|\n",
      "|  1| visit|      2| Medicin|false|2021-03-24 08:04:27|     2|\n",
      "|  1| click|      2|Politics|false|2021-12-08 08:39:47|     2|\n",
      "|  1|  move|      3|   Sport|false|2021-04-23 09:48:20|     2|\n",
      "|  2| visit|      4|Politics| true|2021-10-23 01:54:20|     0|\n",
      "|  2|scroll|      4| Medicin| true|2021-07-12 18:19:40|     4|\n",
      "|  2| click|      4|Politics| true|2021-04-11 08:30:21|     2|\n",
      "|  2| visit|      5|Business| true|2021-07-12 09:38:55|     2|\n",
      "+---+------+-------+--------+-----+-------------------+------+\n",
      "only showing top 10 rows\n",
      "\n"
     ]
    }
   ],
   "source": [
    "df_period = df_logs.withColumn(\"period\", F.floor(F.hour(\"event_time\") / F.lit(4)))\n",
    "df_period.show(10)"
   ]
  },
  {
   "cell_type": "markdown",
   "id": "0406fc90-a7f9-4fc5-881a-1c543f0aab7c",
   "metadata": {},
   "source": [
    "###  Выведите временной промежуток на основе предыдущего задания, в течение которого было больше всего активностей на сайте."
   ]
  },
  {
   "cell_type": "code",
   "execution_count": 76,
   "id": "10f14675-b5c8-44a9-9b9b-d020a3482b64",
   "metadata": {},
   "outputs": [
    {
     "name": "stderr",
     "output_type": "stream",
     "text": [
      "[Stage 139:=====================================================> (29 + 1) / 30]\r"
     ]
    },
    {
     "name": "stdout",
     "output_type": "stream",
     "text": [
      "+------+------------+\n",
      "|period|period_count|\n",
      "+------+------------+\n",
      "|     2|           7|\n",
      "+------+------------+\n",
      "\n"
     ]
    },
    {
     "name": "stderr",
     "output_type": "stream",
     "text": [
      "                                                                                \r"
     ]
    }
   ],
   "source": [
    "df_period.groupby(\"period\")\\\n",
    "      .agg(F.count(\"*\").alias(\"period_count\"))\\\n",
    "      .orderBy(\"period_count\", ascending = False)\\\n",
    "      .limit(1).show()"
   ]
  },
  {
   "cell_type": "markdown",
   "id": "3c1b4ca7-eef1-4ba7-a4e4-8c4ad4ecdf50",
   "metadata": {},
   "source": [
    "### Создайте второй фрейм данных, который будет содержать информацию о ЛК посетителя сайта"
   ]
  },
  {
   "cell_type": "code",
   "execution_count": 77,
   "id": "86028d24-3880-4af8-b710-d6148f3c9f40",
   "metadata": {},
   "outputs": [],
   "source": [
    "customSchema_lk = T.StructType([\n",
    "                T.StructField(\"id\", T.StringType(), True),\n",
    "                T.StructField(\"user_id\", T.IntegerType(), True),\n",
    "                T.StructField(\"fio\", T.StringType(), True),\n",
    "                T.StructField(\"dob\", T.DateType(), True),\n",
    "                T.StructField(\"doc\", T.DateType(), True)])"
   ]
  },
  {
   "cell_type": "code",
   "execution_count": 80,
   "id": "1316401a-1c20-4778-9aa5-00691e5d2e9a",
   "metadata": {},
   "outputs": [],
   "source": [
    "from datetime import datetime\n",
    "data_lk = [\n",
    "    (1, 3, \"Иванов Иван Иванович\", datetime(2000, 6, 5), datetime(2016, 8, 1)),\n",
    "    (2, 2, \"Петров Петр Петрович\", datetime(1996, 1, 12), datetime(2017, 10, 7)),\n",
    "    (3, 4, \"Кириллов Кирилл Киррилович\", datetime(1992, 4, 25), datetime(2019, 11, 8)),\n",
    "    (4, 5, \"Михайлов Михаил Михайлович\", datetime(1989, 11, 22), datetime(2020, 12, 17)),\n",
    "    (5, 6, \"Сидоров Сидор Сидорович\", datetime(1654, 3, 13), datetime(2021, 6, 2)),\n",
    "    (6, 1, \"Николаев Николай Николаевич\", datetime(1987, 7, 7), datetime(2016, 10, 15)),\n",
    "]\n",
    "\n",
    "df_lk = spark.createDataFrame(data = data_lk, schema = customSchema_lk)"
   ]
  },
  {
   "cell_type": "markdown",
   "id": "0410813c-151c-4861-9839-344c54bc1ca1",
   "metadata": {},
   "source": [
    "### Вывести фамилии посетителей, которые читали хотя бы одну новость про спорт."
   ]
  },
  {
   "cell_type": "code",
   "execution_count": 83,
   "id": "a7481b27-b493-442f-8bd3-1f88de0af304",
   "metadata": {},
   "outputs": [
    {
     "name": "stderr",
     "output_type": "stream",
     "text": [
      "[Stage 145:=================================================>     (27 + 3) / 30]\r"
     ]
    },
    {
     "name": "stdout",
     "output_type": "stream",
     "text": [
      "+---------------------------+\n",
      "|fio                        |\n",
      "+---------------------------+\n",
      "|Николаев Николай Николаевич|\n",
      "|Иванов Иван Иванович       |\n",
      "|Михайлов Михаил Михайлович |\n",
      "+---------------------------+\n",
      "\n"
     ]
    },
    {
     "name": "stderr",
     "output_type": "stream",
     "text": [
      "                                                                                \r"
     ]
    }
   ],
   "source": [
    "df_Stg = df_lk.alias(\"lk\").join(df_logs.alias(\"web\"),\n",
    "                                    on = [F.col(\"lk.user_id\") == F.col(\"web.id\")],\n",
    "                                    how = \"left\")\n",
    "\n",
    "df_sport = df_Stg.select(\"fio\", \"tag\")\\\n",
    "                      .filter((F.col('tag')=='Sport'))\\\n",
    "                      .select(\"fio\")\\\n",
    "                      .dropDuplicates([\"fio\"])\n",
    "df_sport.show(truncate=False)"
   ]
  }
 ],
 "metadata": {
  "kernelspec": {
   "display_name": "PySpark 3.2.2",
   "language": "python",
   "name": "pyspark-3.2.2"
  },
  "language_info": {
   "codemirror_mode": {
    "name": "ipython",
    "version": 3
   },
   "file_extension": ".py",
   "mimetype": "text/x-python",
   "name": "python",
   "nbconvert_exporter": "python",
   "pygments_lexer": "ipython3",
   "version": "3.7.9"
  }
 },
 "nbformat": 4,
 "nbformat_minor": 5
}
